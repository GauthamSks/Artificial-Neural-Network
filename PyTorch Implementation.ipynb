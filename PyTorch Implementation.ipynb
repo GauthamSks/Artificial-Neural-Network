{
 "cells": [
  {
   "cell_type": "markdown",
   "metadata": {},
   "source": [
    "# <div align='center'> Handwritten Digit Clasiffication Using PyTorch</div>"
   ]
  },
  {
   "cell_type": "code",
   "execution_count": 1,
   "metadata": {},
   "outputs": [],
   "source": [
    "import numpy as np\n",
    "import torch\n",
    "from torch import nn\n",
    "from torch import optim\n",
    "import torch.nn.functional as F\n",
    "from torchvision import datasets, transforms\n",
    "import matplotlib.pyplot as plt\n",
    "%matplotlib inline"
   ]
  },
  {
   "cell_type": "markdown",
   "metadata": {},
   "source": [
    "### Downloading and Normalizing the Data"
   ]
  },
  {
   "cell_type": "code",
   "execution_count": 2,
   "metadata": {},
   "outputs": [],
   "source": [
    "# Transformations to be applied to the data\n",
    "transform = transforms.Compose([transforms.ToTensor(),\n",
    "                                transforms.Normalize((0.5,), (0.5,))])\n",
    "# Download and load the Training data\n",
    "trainset = datasets.MNIST('~/.pytorch/MNIST_data/', download=True, train=True, transform=transform)\n",
    "trainloader = torch.utils.data.DataLoader(trainset, batch_size=64, shuffle=True)\n",
    "\n",
    "# Download and load the Test data\n",
    "testset = datasets.MNIST('~/.pytorch/MNIST_data/', download=True, train=False, transform=transform)\n",
    "testloader = torch.utils.data.DataLoader(testset, batch_size=64, shuffle=True)"
   ]
  },
  {
   "cell_type": "markdown",
   "metadata": {},
   "source": [
    "**NOTE**: Here we shall be loading the data as a batch and each batch will be of the form [64, 1, 28, 28] ie 64 samples, 1 colour channel 28*28 pixles"
   ]
  },
  {
   "cell_type": "markdown",
   "metadata": {},
   "source": [
    "### Model"
   ]
  },
  {
   "cell_type": "code",
   "execution_count": 8,
   "metadata": {},
   "outputs": [
    {
     "name": "stdout",
     "output_type": "stream",
     "text": [
      "Sequential(\n",
      "  (0): Linear(in_features=784, out_features=100, bias=True)\n",
      "  (1): Sigmoid()\n",
      "  (2): Linear(in_features=100, out_features=10, bias=True)\n",
      "  (3): LogSoftmax()\n",
      ")\n"
     ]
    }
   ],
   "source": [
    "Input_Nodes = 784\n",
    "Hidden_Node = 100\n",
    "Output_Node = 10\n",
    "epochs = 10\n",
    "lr = 0.38\n",
    "\n",
    "Model1 = nn.Sequential(nn.Linear(Input_Nodes,Hidden_Node),\n",
    "                       nn.Sigmoid(),\n",
    "                       nn.Linear(Hidden_Node,Output_Node),\n",
    "                       nn.LogSoftmax(dim=1)\n",
    "                      )\n",
    "print(Model1)"
   ]
  },
  {
   "cell_type": "markdown",
   "metadata": {},
   "source": [
    "**NOTE**: Here I shall be using a different error function instead of *MSE* I used in my other implimentation."
   ]
  },
  {
   "cell_type": "markdown",
   "metadata": {},
   "source": [
    "### Cost Function"
   ]
  },
  {
   "cell_type": "code",
   "execution_count": 4,
   "metadata": {},
   "outputs": [],
   "source": [
    "#ie the Error Function\n",
    "CostFn = nn.NLLLoss()"
   ]
  },
  {
   "cell_type": "markdown",
   "metadata": {},
   "source": [
    "### Training and Validating Phase"
   ]
  },
  {
   "cell_type": "code",
   "execution_count": 9,
   "metadata": {
    "scrolled": false
   },
   "outputs": [
    {
     "name": "stdout",
     "output_type": "stream",
     "text": [
      "Epoch: 1/10..  Training Loss: 0.434..  Test Loss: 0.256..  Test Accuracy: 92.605\n",
      "Epoch: 2/10..  Training Loss: 0.205..  Test Loss: 0.196..  Test Accuracy: 94.228\n",
      "Epoch: 3/10..  Training Loss: 0.155..  Test Loss: 0.140..  Test Accuracy: 95.890\n",
      "Epoch: 4/10..  Training Loss: 0.125..  Test Loss: 0.143..  Test Accuracy: 95.770\n",
      "Epoch: 5/10..  Training Loss: 0.106..  Test Loss: 0.137..  Test Accuracy: 96.158\n",
      "Epoch: 6/10..  Training Loss: 0.093..  Test Loss: 0.133..  Test Accuracy: 96.168\n",
      "Epoch: 7/10..  Training Loss: 0.082..  Test Loss: 0.113..  Test Accuracy: 96.576\n",
      "Epoch: 8/10..  Training Loss: 0.073..  Test Loss: 0.091..  Test Accuracy: 97.293\n",
      "Epoch: 9/10..  Training Loss: 0.066..  Test Loss: 0.092..  Test Accuracy: 97.174\n",
      "Epoch: 10/10..  Training Loss: 0.059..  Test Loss: 0.092..  Test Accuracy: 97.034\n"
     ]
    },
    {
     "data": {
      "image/png": "[encoded data removed]",
      "text/plain": [
       "<Figure size 432x288 with 1 Axes>"
      ]
     },
     "metadata": {
      "needs_background": "light"
     },
     "output_type": "display_data"
    }
   ],
   "source": [
    "def Train(trainloader,testloader,Model,lr,epoch):\n",
    "    \n",
    "    train_losses, test_losses = [], []\n",
    "    \n",
    "    optimizer = optim.SGD(Model.parameters(), lr=lr)\n",
    "    \n",
    "    for e in range(epoch):\n",
    "        LossComputed = 0\n",
    "        for data, lables in trainloader:\n",
    "            data = data.view(data.shape[0],-1) #64*784\n",
    "        \n",
    "            optimizer.zero_grad()\n",
    "            Model_out = Model(data)\n",
    "            Loss = CostFn(Model_out,lables)\n",
    "        \n",
    "            #BackPropagation\n",
    "            Loss.backward()\n",
    "            #Updation_Step\n",
    "            optimizer.step()\n",
    "        \n",
    "            LossComputed += Loss\n",
    "        else:\n",
    "            test_loss = 0\n",
    "            accuracy = 0\n",
    "        \n",
    "            # Turn off gradients for validation, saves memory and computations\n",
    "            with torch.no_grad():\n",
    "                Model.eval() #Turning off the DropOut layer while Testing\n",
    "                for images, labels in testloader:\n",
    "                    images = images.view(images.shape[0],-1)\n",
    "                    log_ps = Model(images)\n",
    "                    test_loss += CostFn(log_ps, labels)\n",
    "                    ps = torch.exp(log_ps)\n",
    "                    top_p, top_class = ps.topk(1, dim=1)\n",
    "                    equals = top_class == labels.view(*top_class.shape)\n",
    "                    accuracy += torch.mean(equals.type(torch.FloatTensor))     \n",
    "            \n",
    "            Model.train() #Turning on the DropOut layer\n",
    "            \n",
    "            train_losses.append(LossComputed/len(trainloader))\n",
    "            test_losses.append(test_loss/len(testloader))\n",
    "\n",
    "            print(\"Epoch: {}/{}.. \".format(e+1, epoch),\n",
    "              \"Training Loss: {:.3f}.. \".format(LossComputed/len(trainloader)),\n",
    "              \"Test Loss: {:.3f}.. \".format(test_loss/len(testloader)),\n",
    "              \"Test Accuracy: {:.3f}\".format(100*(accuracy/len(testloader))))\n",
    "            \n",
    "    # Ploting Training vs Validation Error\n",
    "    plt.plot(train_losses, label='Training loss')\n",
    "    plt.plot(test_losses, label='Validation loss')\n",
    "    plt.legend(frameon=False)\n",
    " \n",
    "\n",
    "Train(trainloader,testloader,Model1,lr,epochs)"
   ]
  },
  {
   "cell_type": "code",
   "execution_count": 6,
   "metadata": {},
   "outputs": [],
   "source": [
    "''' \n",
    "Function for viewing an image and it's predicted classes.\n",
    "'''\n",
    "def view_classify(img, ps, version=\"MNIST\"):\n",
    "    ps = ps.data.numpy().squeeze()\n",
    "\n",
    "    fig, (ax1, ax2) = plt.subplots(figsize=(6,9), ncols=2)\n",
    "    ax1.imshow(img.resize_(1, 28, 28).numpy().squeeze())\n",
    "    ax1.axis('off')\n",
    "    ax2.barh(np.arange(10), ps)\n",
    "    ax2.set_aspect(0.1)\n",
    "    ax2.set_yticks(np.arange(10))\n",
    "    ax2.set_yticklabels(np.arange(10))\n",
    "    ax2.set_title('Class Probability')\n",
    "    ax2.set_xlim(0, 1.1)\n",
    "\n",
    "    plt.tight_layout()"
   ]
  },
  {
   "cell_type": "code",
   "execution_count": 15,
   "metadata": {},
   "outputs": [
    {
     "data": {
      "image/png": "[encoded data removed]",
      "text/plain": [
       "<Figure size 432x648 with 2 Axes>"
      ]
     },
     "metadata": {
      "needs_background": "light"
     },
     "output_type": "display_data"
    }
   ],
   "source": [
    "images, labels = next(iter(trainloader))\n",
    "img = images[0].view(1, 784)\n",
    "with torch.no_grad():\n",
    "    logps = Model1(img)\n",
    "ps = torch.exp(logps)\n",
    "view_classify(img.view(1, 28, 28), ps)"
   ]
  }
 ],
 "metadata": {
  "kernelspec": {
   "display_name": "Python 3",
   "language": "python",
   "name": "python3"
  },
  "language_info": {
   "codemirror_mode": {
    "name": "ipython",
    "version": 3
   },
   "file_extension": ".py",
   "mimetype": "text/x-python",
   "name": "python",
   "nbconvert_exporter": "python",
   "pygments_lexer": "ipython3",
   "version": "3.7.5"
  }
 },
 "nbformat": 4,
 "nbformat_minor": 2
}
